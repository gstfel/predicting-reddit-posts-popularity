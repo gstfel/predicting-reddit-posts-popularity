{
 "cells": [
  {
   "cell_type": "markdown",
   "metadata": {},
   "source": [
    "# Introduction"
   ]
  },
  {
   "cell_type": "markdown",
   "metadata": {},
   "source": [
    "This project explores machine learning methods to predict the popularity of reddit posts. Note that most explanations and interpretations are provided in the corresponding report. Our team is called TeamScholz and consists of Martin Scholz (11910748), Mark Tallai (01452456), Felix Gstettner (11810614) and Stepan Malysh (11929354). This code in this notebook starts by defining relevant functions that can be used for accessing and preprocessing the data and also for estimating models. The final section uses this functions to request the posts of r/elderscrollsonline and r/Atlanta. Next to the code chunks short explanations will be provided in markdown-cells. Note that this notebook focuses on defining the functions and running them on the corresponding subreddits. Explanations and interpretations can be found in detail in the report.\n",
    "\n",
    "By using this notebook and the attached data you agree to comply with our privacy policy provided at https://github.com/hellfun1/Privacy_policy."
   ]
  },
  {
   "cell_type": "markdown",
   "metadata": {},
   "source": [
    "# Setting up Spark\n",
    "As a first step, all required packages are imported and a spark session is initialized."
   ]
  },
  {
   "cell_type": "code",
   "execution_count": 1,
   "metadata": {},
   "outputs": [],
   "source": [
    "#import the required packages\n",
    "#praw for connecting to the Reddit API\n",
    "import praw\n",
    "#import time to get the current time\n",
    "import time\n",
    "#import sys to get error messages\n",
    "import sys\n",
    "#note: we are aware of the fact that pandas is NOT scaleable. Pandas is only used as a helper function in order to get a local backup of our requested\n",
    "#data. This was done to ensure reproducibility as the requested data depends on the exact time when the functions were called. Thus,\n",
    "#to ensure reproducibility we added the data used for our analyses as csv-files to our submission. Exept from saving the data, pandas is NOT used for our algorithms.\n",
    "import pandas\n",
    "import math\n",
    "from functools import reduce\n",
    "#for plotting silhouette score:\n",
    "import matplotlib.pyplot as plt\n",
    "\n",
    "#load machine learning tools\n",
    "# Import the StandardScaler Module to standardize feature vector\n",
    "from pyspark.ml.feature import StandardScaler\n",
    "#impport Vector Assembler to create feature vector\n",
    "from pyspark.ml.feature import VectorAssembler\n",
    "from pyspark.ml.feature import  Tokenizer, StopWordsRemover, CountVectorizer, IDF\n",
    "from pyspark.ml.feature import StringIndexer, VectorIndexer\n",
    "\n",
    "#import functions from pyspark sql to replace/remove unneccessary words\n",
    "from pyspark.sql import functions\n",
    "#import the SparkSession module for using spark\n",
    "from pyspark.sql import SparkSession\n",
    "from pyspark.sql import DataFrame\n",
    "from pyspark.sql.functions import col, array\n",
    "from pyspark.sql.functions import translate\n",
    "from pyspark.sql.functions import concat_ws, lit\n",
    "from pyspark.sql.functions import struct    \n",
    "from pyspark.sql.types import *\n",
    "#import function to get the means\n",
    "from pyspark.sql.functions import avg\n",
    "\n",
    "from pyspark.ml.evaluation import ClusteringEvaluator\n",
    "from pyspark.ml.evaluation import MulticlassClassificationEvaluator\n",
    "from pyspark.ml.evaluation import BinaryClassificationEvaluator\n",
    "\n",
    "#for clustering we use KMeans\n",
    "from pyspark.ml.clustering import KMeans\n",
    "\n",
    "#import functions for models\n",
    "from pyspark.ml.classification import LogisticRegression\n",
    "from pyspark.ml.classification import DecisionTreeClassifier\n",
    "\n",
    "from  pyspark.ml import Pipeline\n",
    "\n",
    "from pyspark.ml.functions import vector_to_array"
   ]
  },
  {
   "cell_type": "code",
   "execution_count": 2,
   "metadata": {},
   "outputs": [],
   "source": [
    "# Build the SparkSession\n",
    "spark = SparkSession.builder \\\n",
    "    .master(\"local\") \\\n",
    "    .appName(\"Predicting Reddit Popularity\") \\\n",
    "    .config(\"spark.executor.memory\", \"2gb\") \\\n",
    "    .getOrCreate()\n",
    "\n",
    "# Main entry point for Spark functionality. A SparkContext represents the\n",
    "# connection to a Spark cluster, and can be used to create :class:`RDD` and\n",
    "# broadcast variables on that cluster.      \n",
    "sc = spark.sparkContext"
   ]
  },
  {
   "cell_type": "markdown",
   "metadata": {},
   "source": [
    "# Collecting data and preprocessing\n",
    "If needed the following code chunk installs the praw library. Note that we were required to install praw every time we restarted the server. Therefore, we decided to add this code chunk if an installation is needed. Only run the next code chunk if praw is not installed."
   ]
  },
  {
   "cell_type": "code",
   "execution_count": 3,
   "metadata": {},
   "outputs": [
    {
     "name": "stdout",
     "output_type": "stream",
     "text": [
      "Requirement already satisfied: praw in /opt/conda/lib/python3.8/site-packages (7.5.0)\n",
      "Requirement already satisfied: update-checker>=0.18 in /opt/conda/lib/python3.8/site-packages (from praw) (0.18.0)\n",
      "Requirement already satisfied: prawcore<3,>=2.1 in /opt/conda/lib/python3.8/site-packages (from praw) (2.3.0)\n",
      "Requirement already satisfied: websocket-client>=0.54.0 in /opt/conda/lib/python3.8/site-packages (from praw) (1.2.3)\n",
      "Requirement already satisfied: requests>=2.3.0 in /opt/conda/lib/python3.8/site-packages (from update-checker>=0.18->praw) (2.24.0)\n",
      "Requirement already satisfied: idna<3,>=2.5 in /opt/conda/lib/python3.8/site-packages (from requests>=2.3.0->update-checker>=0.18->praw) (2.10)\n",
      "Requirement already satisfied: chardet<4,>=3.0.2 in /opt/conda/lib/python3.8/site-packages (from requests>=2.3.0->update-checker>=0.18->praw) (3.0.4)\n",
      "Requirement already satisfied: urllib3!=1.25.0,!=1.25.1,<1.26,>=1.21.1 in /opt/conda/lib/python3.8/site-packages (from requests>=2.3.0->update-checker>=0.18->praw) (1.25.11)\n",
      "Requirement already satisfied: certifi>=2017.4.17 in /opt/conda/lib/python3.8/site-packages (from requests>=2.3.0->update-checker>=0.18->praw) (2020.6.20)\n",
      "Note: you may need to restart the kernel to use updated packages.\n"
     ]
    }
   ],
   "source": [
    "pip install praw"
   ]
  },
  {
   "cell_type": "markdown",
   "metadata": {},
   "source": [
    "### Defining the preprocessing function\n",
    "The following functions start by opening a connection to the Reddit API. Next, the function requests the posts of a given subreddit. Furthermore, the functions also clean and preprocess the posts so the data can be used in the following steps. In fact, the youngest posts are omitted and several elements in the strings are removed. Rows containing missing values (for example the body would be empty if a post only contains a picture) are omitted."
   ]
  },
  {
   "cell_type": "code",
   "execution_count": 6,
   "metadata": {},
   "outputs": [],
   "source": [
    "###inputs\n",
    "##subreddit: what subbreddit\n",
    "##post_limit: how many posts should be fetched maximium of 1000\n",
    "##max_age: maximum age of post in unix time units\n",
    "###output:\n",
    "##a pyspark data frame that contains our relevant data\n",
    "def accessing(subreddit, post_limit, max_age):\n",
    "    try:\n",
    "        #establish connection to Reddit via the API\n",
    "        reddit = praw.Reddit(client_id = 'client id',\n",
    "                            client_secret = 'client secret',\n",
    "                            username = 'username',\n",
    "                            password = 'password',\n",
    "                            user_agent = 'user agent')\n",
    "\n",
    "        column_names = [\"body\" ,\"unix_time\", \"num_comments\", \"score\", \"upvote_ratio\"]\n",
    "        \n",
    "        #we first create a pyspark dataframe\n",
    "        #to infer the schema, i.e. that there should be 6 columns with the correct data type\n",
    "        #we specify some strings, integers and floats for the first row\n",
    "        #the body is \"#\"\n",
    "        #this string is later on replaced by an empty sting and later on the whole row is omitted\n",
    "        #this is an in-between step that helps saving the data in a pyspark dataframe\n",
    "        data_DF = spark.createDataFrame([(\"#\",100,100,100,0.5)], column_names)\n",
    "        \n",
    "        #access the data about the posts\n",
    "        for sub in reddit.subreddit(subreddit).new(limit=post_limit):\n",
    "            new_post = spark.createDataFrame([(sub.selftext, sub.created_utc, sub.num_comments, sub.score, sub.upvote_ratio)], column_names)\n",
    "            data_DF = data_DF.union(new_post)\n",
    "\n",
    "\n",
    "        #examine schema:\n",
    "        #note that the following code line would show that there is no problem regarding the data types\n",
    "        #i.e., numeric values are represented as either floats or strings, characters are correctly saved as string\n",
    "        #data_DF.printSchema()\n",
    "        #thus, there is no need to convert data types, they were identified correctly each time we ran the code\n",
    "        #note that we tried this out with different subreddits and the schema was correctly identified in each case\n",
    "        \n",
    "        #exclude the youngest posts\n",
    "        # get the time\n",
    "        time = time.time()\n",
    "        #filter out young posts\n",
    "        data_DF = data_DF.filter(time - data_DF.unix_time>= max_age)#86400 is one day\n",
    "\n",
    "        #clean the text of the posts\n",
    "        #more cleaning will be done in the preprocessing-function later on\n",
    "        #replace missing values with \"None\"\n",
    "        data_DF = data_DF.na.replace('', None)\n",
    "        \n",
    "        #removing commas and paragraphs is especially important if the data is saved locally as a csv-file\n",
    "        #as we are providing a hard save of our used data, commas and paragraphs in the body will lead to messy results when the csv is read into\n",
    "        #a pyspark dataframe. Thus omitting them before the local save ensures that the data is stored correctly and could be used without further issues\n",
    "        #remove commas\n",
    "        data_DF = data_DF.withColumn('body', functions.regexp_replace('body', ',', ''))\n",
    "        #remove paragraphs\n",
    "        data_DF = data_DF.withColumn('body', functions.regexp_replace('body', '\\n', ''))\n",
    "        \n",
    "        #drop missing values\n",
    "        data_DF = data_DF.na.drop()\n",
    "        \n",
    "        return data_DF\n",
    "    \n",
    "    except:\n",
    "        #troubleshooting:\n",
    "        #check if given argument is string\n",
    "        if (isinstance(subreddit, str) == False):\n",
    "            print(\"Error: Argument must be a string.\")\n",
    "        else:\n",
    "            #get other error messages\n",
    "            #might be, e.g., that a given Subreddit does not exist\n",
    "            #which will give either a 404 HTTP error (i.e. \"not found\")\n",
    "            #or a message that the request was redirected to the search page (e.g., if the given subreddit does not exist)\n",
    "            #note that there might also occur a SparkException Error that may arise because the dataframe is empty,\n",
    "            #i.e., there are no observations left (this might occur if the time threshold for youngest posts is too big compared to the age of the oldest post)\n",
    "            print(\"Unexpected error:\", sys.exc_info()[1])"
   ]
  },
  {
   "cell_type": "code",
   "execution_count": 7,
   "metadata": {},
   "outputs": [],
   "source": [
    "###inputs:\n",
    "##subreddit: what subbreddit\n",
    "##post_limit: how many posts should be fetched, this is limited by Reddit to approximately 1000 posts \n",
    "##max_age: maximum age of post in unix time units\n",
    "###output:\n",
    "##a pyspark data frame that contains our relevant data\n",
    "def preprocessing(df):\n",
    "    try:\n",
    "        #data preprocessing:\n",
    "        data_DF = df\n",
    "\n",
    "        #clean posts:\n",
    "        #remove expressions based on seuggestions made in the lab sessions\n",
    "        data_DF = data_DF.withColumn('body', functions.regexp_replace('body', r'http\\S+', ''))\n",
    "        data_DF = data_DF.withColumn('body', functions.regexp_replace('body', '#', ''))\n",
    "        data_DF = data_DF.withColumn('body', functions.regexp_replace('body', ':', ''))\n",
    "        data_DF = data_DF.withColumn('body', functions.regexp_replace('body', ';', ''))\n",
    "        data_DF = data_DF.withColumn('body', functions.regexp_replace('body', r'\\n', ''))\n",
    "        data_DF = data_DF.withColumn('body', functions.regexp_replace('body', r'\\*', ''))\n",
    "        #remove mentioned user names in posts\n",
    "        #note that there are two ways on Reddit to link users, /u and /u/\n",
    "        data_DF = data_DF.withColumn('body', functions.regexp_replace('body', r'/u/+', ''))\n",
    "        data_DF = data_DF.withColumn('body', functions.regexp_replace('body', r'u/+', ''))\n",
    "        #remove zero-width space\n",
    "        data_DF = data_DF.withColumn('body', functions.regexp_replace('body', r'&x200B', ''))\n",
    "\n",
    "        #drop missing values\n",
    "        data_DF = data_DF.na.drop()\n",
    "\n",
    "        #collect the relevant variables for clustering in a single column called features\n",
    "        #clustering will be based on the number of comments, score and the upvote ratio\n",
    "        vecAssembler = VectorAssembler(inputCols=[\"num_comments\", \"score\", \"upvote_ratio\"], outputCol=\"features\")\n",
    "        data_DF_fea = vecAssembler.transform(data_DF)\n",
    "\n",
    "        # Standardizes features by removing the mean and scaling to unit variance using column summary\n",
    "        # statistics on the samples in the training set.\n",
    "        standardScaler = StandardScaler(inputCol=\"features\", outputCol=\"features_scaled\")\n",
    "\n",
    "        # Fits a model to the input dataset with optional parameters.\n",
    "        scaler = standardScaler.fit(data_DF_fea)\n",
    "\n",
    "        # Transforms the input dataset with optional parameters.\n",
    "        DF_scaled = scaler.transform(data_DF_fea)\n",
    "\n",
    "        #return the preprocessed spark dataframe\n",
    "        #and print the remaining number of observations\n",
    "        print(\"The cleaned dataframe consists of \"+ str(DF_scaled.count()) + \" observations.\")\n",
    "        return DF_scaled\n",
    "    \n",
    "    except:\n",
    "        #troubleshooting:\n",
    "        #get error messages\n",
    "        #note that there might also occur a SparkException Error that may arise because the the dataframe is empty,\n",
    "        #i.e., there are no observations left\n",
    "        print(\"Unexpected error:\", sys.exc_info()[1])"
   ]
  },
  {
   "cell_type": "markdown",
   "metadata": {},
   "source": [
    "## Clustering"
   ]
  },
  {
   "cell_type": "markdown",
   "metadata": {},
   "source": [
    "The following section defines functions that are used for clustering. Clustering is based on the collected metadata (number of comments, score and upvote ratio). We are going to use the K-means method. The first function, get_K(), uses the silhouette score to find out the optimal number of clusters K. The second function, cluster(), uses the optimal number of clusters obtained by the previous function to cluster the data based on the respective metadata. Note that we restricted the possible values for K to lie between 3 and 10. The lower boundary ensures that for a given dataframe there exist some clusters. The upper boundary is limited to 10 in order to limit computational time. While a higher number of clusters might be more optimal, K-means clustering has the big disadvantage that it is time-consuming. In our case, clustering is running eight times (once for each possible value of K). The higher K, the higher the overall computational time. Therefore, K is limited to 10. The code regarding clustering was partly adapted from https://rsandstroem.github.io/sparkkmeans.html. Please note that until now we have defined a try and except statement to ensure error handling. This will be not included in any of the following functions as there should not be any problems if the correct dataframe is given as input."
   ]
  },
  {
   "cell_type": "code",
   "execution_count": 8,
   "metadata": {},
   "outputs": [],
   "source": [
    "def get_K(df):\n",
    "    # get optimal K for K means clustering\n",
    "    #output will be a plot based on silhouette score\n",
    "    #which can be used to find out the optimal number of clusters K\n",
    "    try:\n",
    "        #create evaluator\n",
    "        #we are going to use the silhouette score based on a squared euclidean distance measure\n",
    "        evaluator_sil = ClusteringEvaluator(predictionCol='prediction', featuresCol='features_scaled', metricName='silhouette', distanceMeasure='squaredEuclidean')    \n",
    "\n",
    "        #compute \"cost\" for different K\n",
    "        #we try out values from 3 to 10\n",
    "        #set seed for reproducibility\n",
    "        score = []\n",
    "        for k in range(3,10):\n",
    "            #note that this for loop is one of the most time consuming parts of the code\n",
    "            #get model for clustering\n",
    "            kmeans = KMeans().setK(k).setSeed(123).setFeaturesCol(\"features_scaled\")\n",
    "            #assign clusters to observations\n",
    "            model = kmeans.fit(df)\n",
    "            #assign observations to group\n",
    "            output = model.transform(df)\n",
    "            #compute cost\n",
    "            eval_score = evaluator_sil.evaluate(output)\n",
    "            score.append(eval_score)\n",
    "\n",
    "        #plot the silhouette score\n",
    "        plt.plot(range(3,10), score)\n",
    "\n",
    "        #we choose K such that the silhouette score is maximized\n",
    "        #note that we have to add 3 as the index starts at 0 but possible values for K at 3\n",
    "        print(\"Based on the silhoutte score, the optimal number of clusters is \" + str(score.index(max(score))+3) +\".\")\n",
    "    except:\n",
    "        #troubleshooting\n",
    "        #this deals e.g. with the situation if a string or float element is given instead of a dataframe\n",
    "        print(\"Unexpected error:\", sys.exc_info()[1])"
   ]
  },
  {
   "cell_type": "code",
   "execution_count": 9,
   "metadata": {},
   "outputs": [],
   "source": [
    "def cluster(df, K):    \n",
    "    try:\n",
    "        #get final clustering\n",
    "        kmeans = KMeans().setK(K).setSeed(123).setFeaturesCol(\"features_scaled\")\n",
    "        model = kmeans.fit(df)\n",
    "        df_clu = model.transform(df)\n",
    "        #rename  prediction column to label\n",
    "        df_clu = df_clu.withColumnRenamed(\"prediction\",\"label\")\n",
    "        return df_clu\n",
    "    except:\n",
    "        #troubleshooting\n",
    "        #this deals e.g. with the situation if a string or float element is given instead of a dataframe\n",
    "        print(\"Unexpected error:\", sys.exc_info()[1])\n"
   ]
  },
  {
   "cell_type": "markdown",
   "metadata": {},
   "source": [
    "## Decision trees"
   ]
  },
  {
   "cell_type": "markdown",
   "metadata": {},
   "source": [
    "A decision tree model is based on a tree-like structure. Each node represents one test. Depending on whether the test is successful or not, one of the child nodes is being tested. The final nodes of each path represent predictions. The following code was adapted from https://spark.apache.org/docs/latest/ml-classification-regression.html#decision-tree-classifier and from https://github.com/Jcharis/pyspark-tutorials ."
   ]
  },
  {
   "cell_type": "code",
   "execution_count": 11,
   "metadata": {},
   "outputs": [],
   "source": [
    "def getPrediction(trainingData, testData):\n",
    "    tokenizer = Tokenizer(inputCol = 'body',outputCol = 'body_toc') # converting the body into tokens\n",
    "    stopwords_remover = StopWordsRemover(inputCol = 'body_toc',outputCol = 'body_toc_filtered') # removing stopwords\n",
    "    vectorizer = CountVectorizer(inputCol = 'body_toc_filtered', outputCol = 'body_raw_features') # vectorising the words\n",
    "    idf = IDF(inputCol='body_raw_features', outputCol='body_vectorized_features') #getting the inverse document freqeuncy of the tokens\n",
    "    dt = DecisionTreeClassifier(featuresCol = 'body_vectorized_features', labelCol = 'label', maxDepth = 6) # we apply Decision tree classifier model to predict the label by body column\n",
    "    dt_pipeline = Pipeline(stages = (tokenizer,stopwords_remover,vectorizer,idf,dt)) # we create a pipeline for decision tree\n",
    "    \n",
    "    modeldt = dt_pipeline.fit(trainingData)#We train the model on the training data, which is 70% of the dataset, randomly chosen\n",
    "    predictions = modeldt.transform(testData)#We make predictions on the test data, which is 30% of the dataset, randomly chosen\n",
    "    #finally we only return relevant columns of the resulting dataframe\n",
    "    predictions = predictions.select(\"body\",\"num_comments\",\"score\",\"upvote_ratio\",\"features\",\"features_scaled\",\"prediction\", \"rawPrediction\")\n",
    "    return predictions"
   ]
  },
  {
   "cell_type": "markdown",
   "metadata": {},
   "source": [
    "## Logistic regression"
   ]
  },
  {
   "cell_type": "markdown",
   "metadata": {},
   "source": [
    "The second machine learning model that is applied in this project is logistic regression. Logistic regression predicts the probability whether an observation belongs to a specific cluster or not. In general, logistic regression can only predict the probability if two clusters exists (as logistic regression eventually predicts True-or-False outputs given some probability threshold for True events). In our case there exist more than two clusters. Therefore, the logistic regression model has to be adapted, so the model can be used in a multiclass environment. In short, the algorithm predicts the probabilities whether a post belongs into each individual cluster. The cluster with the highest probability is then chosen as final prediction. For more details, please see the corresponding section in the report. The code was partly adapted from https://towardsdatascience.com/machine-learning-with-spark-f1dbc1363986 and https://github.com/Jcharis/pyspark-tutorials."
   ]
  },
  {
   "cell_type": "markdown",
   "metadata": {},
   "source": [
    "The first few codechunks are preparing the data for logistic regression and estimate the probability that a post belongs to each individual cluster. The next section defines a function that determines the final prediction based on the highest estimated probability."
   ]
  },
  {
   "cell_type": "code",
   "execution_count": 14,
   "metadata": {},
   "outputs": [],
   "source": [
    "####used to split the label up so it can be used for logistic regression\n",
    "###inputs\n",
    "##DF_train is the the clustered data frame\n",
    "## clusters is the number of clusters\n",
    "###outputs\n",
    "##DF_train is the clustered data frame prepared for logistic regression\n",
    "def createLabelingForLogistics(DF_train,clusters):\n",
    "    cluster_str = \"\" \n",
    "    empty_str = \"\" \n",
    "    for j in range(0,clusters): \n",
    "        cluster_str += str(j) #creates a string 123...  for which length = number of clusters\n",
    "        empty_str += '0' # creats a str with length = number of clusters and then fills that string with 0\n",
    "    for  i in range(0,clusters):\n",
    "        true_list = list(empty_str) \n",
    "        true_list[i] = '1' # adds a 1 to postion i in the true string so it can be correctly  put int the labels \n",
    "        true_str = ''.join(true_list)\n",
    "        DF_train = DF_train.withColumn(\"label\"+str(i), translate('label', cluster_str ,true_str ).cast('float'))  # uses the translate method to assign 1 or 0 to the label columns \n",
    "        #depending on its label \n",
    "    return DF_train"
   ]
  },
  {
   "cell_type": "code",
   "execution_count": 15,
   "metadata": {},
   "outputs": [],
   "source": [
    "####creates the pipeline for predicting\n",
    "###input:\n",
    "##label_name ... the name of the column that should be predicted\n",
    "###output:\n",
    "##lr_pipline the pipeline for the logistic regression\n",
    "def createPipeline(label_name):\n",
    "    tokenizer = Tokenizer(inputCol = 'body',outputCol = 'body_toc') # splitting the body into words\n",
    "    stopwords_remover = StopWordsRemover(inputCol = 'body_toc',outputCol = 'body_toc_filtered') # removing stopwords\n",
    "    vectorizer = CountVectorizer(inputCol = 'body_toc_filtered', outputCol = 'body_raw_features') # vectorising the words\n",
    "    idf = IDF(inputCol='body_raw_features', outputCol='body_vectorized_features') #getting the inverse document frequncy of the words\n",
    "    lr = LogisticRegression(featuresCol = 'body_vectorized_features', labelCol = label_name ) #train the logistic regression model\n",
    "    lr_pipeline = Pipeline(stages = (tokenizer,stopwords_remover,vectorizer,idf,lr))\n",
    "    return lr_pipeline"
   ]
  },
  {
   "cell_type": "code",
   "execution_count": 16,
   "metadata": {},
   "outputs": [],
   "source": [
    "####takes the data and estimates the models and predicts the outcome for the test data\n",
    "###inputs:\n",
    "##trainDF = the training data\n",
    "##testDF = the testing data\n",
    "##clusters = the amount of clusters\n",
    "###outputs:\n",
    "## the test dataframe with the predictions\n",
    "\n",
    "def getModelPredictions(trainDF,testDF,clusters):\n",
    "    lr_models = []\n",
    "    columns = StructType([])\n",
    "    lr_predictions=[]\n",
    "    for i in range(0, clusters):\n",
    "        label_name=\"label\"+str(i) # getting the name of the label to predict\n",
    "        lr_pipeline = createPipeline(label_name) # making the pipeline\n",
    "        lr_models.append(lr_pipeline.fit(trainDF)) # getting the model\n",
    "\n",
    "        lr_predictions.append(lr_models[i].transform(testDF)) #getting the predictions\n",
    "        \n",
    "        #renaming the columns\n",
    "        lr_predictions[i] = lr_predictions[i].withColumnRenamed(\"RawPrediction\",\"RawPrediction\"+str(i))\n",
    "        lr_predictions[i] = lr_predictions[i].withColumnRenamed(\"probability\",\"probability\"+str(i))\n",
    "        lr_predictions[i] = lr_predictions[i].withColumnRenamed(\"prediction\",\"prediction\"+str(i))\n",
    "        if i > 0 :\n",
    "            lr_predictions[0] = lr_predictions[0].join(lr_predictions[i],lr_predictions[0].columns[0 : - 3 * i],'inner') # joining with the fist prediction so \n",
    "            #everything is in the same df\n",
    "    return lr_predictions[0]"
   ]
  },
  {
   "cell_type": "markdown",
   "metadata": {},
   "source": [
    "### Combining the predictions into one final prediction"
   ]
  },
  {
   "cell_type": "markdown",
   "metadata": {},
   "source": [
    "This is done by choosing the category that was predicted with the highest probability"
   ]
  },
  {
   "cell_type": "code",
   "execution_count": 17,
   "metadata": {},
   "outputs": [],
   "source": [
    "####chooses the overall prediction for each post\n",
    "### inputs:\n",
    "## prediction_list ... the probabilities\n",
    "###output:\n",
    "## the predicted outcome\n",
    "\n",
    "def select_final_prediction_udf(prediction_list):\n",
    "    probability = 0\n",
    "    counter = 0\n",
    "    label = 0\n",
    "    for prediction in prediction_list:\n",
    "        if prediction[1] >= probability:\n",
    "            label = counter\n",
    "            probability = prediction[1]\n",
    "        counter+=1\n",
    "\n",
    "    return label\n",
    "    \n",
    "select_final_prediction = spark.udf.register(\"final_prediction\", select_final_prediction_udf) # registers select_final_orediction as a udf with spark, meaning that it can be used\n",
    "# to select the best prediction for each line in a dataframe\n",
    "\n",
    "####choses the overall prediction\n",
    "### inputs:\n",
    "## results ... the results of the separate logistic predictions as dataframe\n",
    "## testDF ... the test data as a dataframe\n",
    "###output: the final results of the lr as dataframe\n",
    "def make_final_prediction_column(results, testDF):\n",
    "    column_list = results.columns[len(testDF.columns)+4:-1] # get the list columns that were added by the prediction\n",
    "    selected_column_list = []\n",
    "    counter = -1\n",
    "    for i in column_list: # get the list of probability columns\n",
    "        if counter % 3 == 0:\n",
    "            selected_column_list.append(i)\n",
    "        counter+=1\n",
    "        \n",
    "    #use the list of probabilty columns to get the final probability\n",
    "    lr_results_df = results.withColumn(\"final_prediction\", select_final_prediction(array(selected_column_list)))\n",
    "    \n",
    "    return lr_results_df"
   ]
  },
  {
   "cell_type": "code",
   "execution_count": 18,
   "metadata": {},
   "outputs": [],
   "source": [
    "#this is the final function of the logistic regression model\n",
    "#for applying the logistic regression model only this function has to be called\n",
    "#the functions above are helper functions that are called inside this final function.\n",
    "####run lr prediction\n",
    "###Inputs\n",
    "##trainDF ... training data\n",
    "##testDF ... testing Data\n",
    "##clusters ... number of clusters\n",
    "###output:\n",
    "## dataframe of test data with all the prediction outcomes\n",
    "def lr_prediction(trainDF, testDF, clusters):\n",
    "    trainDF_lr = createLabelingForLogistics(trainDF, clusters) #split the label to prepare the training data for logistic regression\n",
    "    results = getModelPredictions(trainDF_lr,testDF, clusters) # estimate the logistic regression model and get estimated probabilites\n",
    "    return make_final_prediction_column(results, testDF) #make the final predictions and return the test dataframe with the predicted clusters"
   ]
  },
  {
   "cell_type": "markdown",
   "metadata": {},
   "source": [
    "## Computing the distance to assess model accuracy"
   ]
  },
  {
   "cell_type": "markdown",
   "metadata": {},
   "source": [
    "As argued later in this notebook and in more detail in the report, we cannot rely on accuracy, or false or true positives because the collected data is missing a label. The label (i.e., the cluster) is determined by the algorithm. Therefore, the test data has no label assigned to it and many metrics cannot be used efficiently. Thus, we decided to compare the models obtained by logistic regression and decision trees based on the Euclidean distance between the true scaled values of the features (number of comments, score and upvote ratio) and the mean values of the corresponding predicted cluster. Finally, these distances are summed up. This measurement can be used to compare the efficiency of two or more models. The lower the distance measurement the better the model."
   ]
  },
  {
   "cell_type": "code",
   "execution_count": 87,
   "metadata": {},
   "outputs": [],
   "source": [
    "####get the position means of the labels\n",
    "###inputs \n",
    "##clu ... the clustered data frame\n",
    "##K the number of clusters\n",
    "###output \n",
    "## a nested list containing the coordinates of the label means\n",
    "def get_labal_position_means(clu,K):\n",
    "    positions = []\n",
    "    for i in range(K): \n",
    "        features_scaled_df = clu.select(\"features_scaled\").where(clu.label == i)\n",
    "        features_scaled_df = features_scaled_df.withColumn(\"scaled\", vector_to_array(\"features_scaled\")).select([\"features_scaled\"] + [col(\"scaled\")[j] for j in range(3)]) #unpass the scaled features column\n",
    "        position = []\n",
    "        position.append(features_scaled_df.agg({'scaled[0]':'mean'}).select(\"avg(scaled[0])\").collect()[0][0]) #calculates the mean for num_comments\n",
    "        position.append(features_scaled_df.agg({'scaled[1]':'mean'}).select(\"avg(scaled[1])\").collect()[0][0])\n",
    "        position.append(features_scaled_df.agg({'scaled[2]':'mean'}).select(\"avg(scaled[2])\").collect()[0][0])\n",
    "        positions.append(position)\n",
    "    return positions"
   ]
  },
  {
   "cell_type": "code",
   "execution_count": 88,
   "metadata": {},
   "outputs": [],
   "source": [
    "####get the distance between the label means and the imput row\n",
    "###input \n",
    "##input ...  an array of columns containg the necessary position arguments\n",
    "###output\n",
    "##the distance between the label means and the input row\n",
    "def get_distance_udf(imput):\n",
    "    for i in range(len(imput)):\n",
    "        imput[i]=float(imput[i])\n",
    "    distance = math.sqrt((imput[0]-imput[3])**2+(imput[1]-imput[4])**2+(imput[2]-imput[5])**2)\n",
    "    return distance\n",
    "get_distance= spark.udf.register(\"distance\", get_distance_udf)"
   ]
  },
  {
   "cell_type": "code",
   "execution_count": 89,
   "metadata": {},
   "outputs": [],
   "source": [
    "####makes a data frame that contains a distance measurement from the row to the label mean\n",
    "###inputs\n",
    "##clu ... clustered dataframe\n",
    "##results ... dataframe with the results of clustering\n",
    "##K ... number of clusters\n",
    "##prediction_column_name ...  the name of the column that gets predicted\n",
    "###output\n",
    "##a dataframe with the distance and other relevant results\n",
    "\n",
    "def make_distance_column(clu,results, K, prediction_column_name):\n",
    "    positions = get_labal_position_means(clu,K)\n",
    "    ####gets the first coordinate of the position of predicted cluster\n",
    "    ###inputs\n",
    "    ##label ... wich cluster has been predicted\n",
    "    ###output\n",
    "    ##the first coordinate of the predicted cluster\n",
    "    def get_position_0_udf(label):\n",
    "        return positions[label][0] #position is using the outer variable\n",
    "    get_position_0 = spark.udf.register(\"label_pos_0\", get_position_0_udf) # registering as udf for use with pyspark\n",
    "    ####gets the second coordinate of the position of predicted cluster\n",
    "    ###inputs\n",
    "    ##label ... which cluster has been predicted\n",
    "    ###output\n",
    "    ##the second coordinate of the predicted cluster\n",
    "    def get_position_1_udf(label):\n",
    "        return positions[label][1]\n",
    "    get_position_1 = spark.udf.register(\"label_pos_1\", get_position_1_udf)\n",
    "    ####gets the third coordinate of the position of predicted cluster\n",
    "    ###inputs\n",
    "    ##label ... which cluster has been predicted\n",
    "    ###output\n",
    "    ##the third coordinate of the predicted cluster\n",
    "    def get_position_2_udf(label):\n",
    "        return positions[label][2]    \n",
    "    get_position_2 = spark.udf.register(\"label_pos_2\", get_position_2_udf)\n",
    "    \n",
    "    results_lp = results.withColumn(\"label_pos_0\", get_position_0(col(prediction_column_name))) # get the first coordinate of the position of predicted cluster\n",
    "    results_lp = results_lp.withColumn(\"label_pos_1\", get_position_1(col(prediction_column_name))) # get the second coordinate of the position of predicted cluster\n",
    "    results_lp = results_lp.withColumn(\"label_pos_2\", get_position_2(col(prediction_column_name)))# get the third coordinate of the position of predicted cluster\n",
    "    results_lp = results_lp.withColumn(\"scaled\", vector_to_array(\"features_scaled\")).select([\"body\"] # prepare the right columns and devectorise features_scaled\n",
    "                                            + [\"num_comments\"] + [\"score\"] + [\"upvote_ratio\"] + [prediction_column_name]\n",
    "                                            + [\"label_pos_0\"] + [\"label_pos_1\"]+ [\"label_pos_2\"]+[\"features_scaled\"] + \n",
    "                                            [col(\"scaled\")[j] for j in range(3)]) \n",
    "    results_lp = results_lp.withColumn(\"distance\", get_distance(array(col(\"label_pos_0\"), col(\"label_pos_1\"), col(\"label_pos_2\"), col(\"scaled[0]\"),col(\"scaled[1]\"),col(\"scaled[2]\")))) # get the distances form the cluster mean\n",
    "    results_lp = results_lp.drop(\"label_pos_0\", \"label_pos_1\", \"label_pos_2\", \"scaled[0]\", \"scaled[1]\", \"scaled[2]\") # drop some unnecessary columns\n",
    "    return results_lp"
   ]
  },
  {
   "cell_type": "markdown",
   "metadata": {},
   "source": [
    "# Analyzing subreddits"
   ]
  },
  {
   "cell_type": "markdown",
   "metadata": {},
   "source": [
    "This section analyzes the chosen subreddits, r/elderscrollsonline and r/Atlanta. Both subreddits might be relevant for marketing departments. Reddit posts could be used for promoting the Elder Scrolls Online video game or the city Atlanta. For such a promotion it is important to write a post that achieves as much attention (as upvotes and number of comments) as possible. This section explores whether it is possible to use logistic regression and decision trees to achieve predictions whether a post in the specific subreddit may get the required attention."
   ]
  },
  {
   "cell_type": "markdown",
   "metadata": {},
   "source": [
    "## Accessing the data\n",
    "In a first step we access the data from r/elderscrollsonline and r/Atlanta. The accessing-function also removes the youngest posts (we excluded all posts that were uploaded in the last 24 hours)."
   ]
  },
  {
   "cell_type": "code",
   "execution_count": 16,
   "metadata": {},
   "outputs": [],
   "source": [
    "df_eso = accessing(\"elderscrollsonline\",1000, 86400)"
   ]
  },
  {
   "cell_type": "code",
   "execution_count": 20,
   "metadata": {},
   "outputs": [],
   "source": [
    "df_atlanta = accessing(\"Atlanta\",1000, 86400)"
   ]
  },
  {
   "cell_type": "markdown",
   "metadata": {},
   "source": [
    "### Save the data locally\n",
    "The function above returns different data depending on the exact time (the data that is used in our analysis was collected on February 5th 2022 at approximately 22:00) the function was called. Therefore, to make results reproducible, we decided to add a csv-file of the respective data in our final submission. The next two code chunks save the dataframes locally. In order to easily save the data we are going to use pandas. While pandas itself is not scalable, this section is only included in order to make results more reproducible and all further steps will be done with a pyspark-dataframe (which again is scalable). The pandas-dataframes are only used to store the data locally and make results reproducible. Pandas should not be used for huge amount of data. Note that if the accessing functions above are called, there is no need to run this section. This section serves only to ensure reproducibility."
   ]
  },
  {
   "cell_type": "code",
   "execution_count": 17,
   "metadata": {},
   "outputs": [],
   "source": [
    "df_eso.toPandas().to_csv('df_eso.csv', index=False)"
   ]
  },
  {
   "cell_type": "code",
   "execution_count": 21,
   "metadata": {},
   "outputs": [],
   "source": [
    "df_atlanta.toPandas().to_csv(\"df_atlanta.csv\", index=False)"
   ]
  },
  {
   "cell_type": "markdown",
   "metadata": {},
   "source": [
    "The next codechunks might be used to load the locally stored csv-files into a pyspark dataframe."
   ]
  },
  {
   "cell_type": "code",
   "execution_count": 19,
   "metadata": {},
   "outputs": [],
   "source": [
    "df_eso = spark.read.csv('df_eso.csv', header=True, sep=\",\", inferSchema='True')"
   ]
  },
  {
   "cell_type": "code",
   "execution_count": 20,
   "metadata": {},
   "outputs": [],
   "source": [
    "df_atlanta = spark.read.csv(\"df_atlanta.csv\", header=True, sep=\",\", inferSchema='True')"
   ]
  },
  {
   "cell_type": "markdown",
   "metadata": {},
   "source": [
    "### Clean and preprocess the data\n",
    "Now, the collected data is cleaned and preprocessed. Some expressions are removed from the body. Finally, the explanatories are standardized so they can be used for clustering. After preprocessing the data, there are 754 observations about Elder Scrolls Online and 716 posts about Atlanta left."
   ]
  },
  {
   "cell_type": "code",
   "execution_count": 21,
   "metadata": {},
   "outputs": [
    {
     "name": "stdout",
     "output_type": "stream",
     "text": [
      "The cleaned dataframe consists of 754 observations.\n"
     ]
    }
   ],
   "source": [
    "df_eso = preprocessing(df_eso)"
   ]
  },
  {
   "cell_type": "code",
   "execution_count": 22,
   "metadata": {},
   "outputs": [
    {
     "name": "stdout",
     "output_type": "stream",
     "text": [
      "The cleaned dataframe consists of 716 observations.\n"
     ]
    }
   ],
   "source": [
    "df_atlanta = preprocessing(df_atlanta)"
   ]
  },
  {
   "cell_type": "markdown",
   "metadata": {},
   "source": [
    "## Clustering"
   ]
  },
  {
   "cell_type": "markdown",
   "metadata": {},
   "source": [
    "Now the optimal number of clusters is determined. In the next step, the training data is clustered based on the optimal number of clusters determined by the maximum of the silhoutte score."
   ]
  },
  {
   "cell_type": "code",
   "execution_count": 23,
   "metadata": {},
   "outputs": [],
   "source": [
    "# Split the data into training and test sets (30% held out for testing)\n",
    "# note that for reproducibility we set the seed to 234\n",
    "(training_eso, test_eso) = df_eso.randomSplit([0.7, 0.3], 234)"
   ]
  },
  {
   "cell_type": "code",
   "execution_count": 24,
   "metadata": {},
   "outputs": [],
   "source": [
    "(training_atlanta, test_atlanta) = df_atlanta.randomSplit([0.7, 0.3], 234)"
   ]
  },
  {
   "cell_type": "code",
   "execution_count": 25,
   "metadata": {},
   "outputs": [
    {
     "name": "stdout",
     "output_type": "stream",
     "text": [
      "Based on the silhoutte score, the optimal number of clusters is 3.\n"
     ]
    },
    {
     "data": {
      "image/png": "[encoded data removed]",
      "text/plain": [
       "<Figure size 432x288 with 1 Axes>"
      ]
     },
     "metadata": {
      "needs_background": "light"
     },
     "output_type": "display_data"
    }
   ],
   "source": [
    "get_K(training_eso)"
   ]
  },
  {
   "cell_type": "code",
   "execution_count": 26,
   "metadata": {},
   "outputs": [
    {
     "name": "stdout",
     "output_type": "stream",
     "text": [
      "Based on the silhoutte score, the optimal number of clusters is 8.\n"
     ]
    },
    {
     "data": {
      "image/png": "[encoded data removed]",
      "text/plain": [
       "<Figure size 432x288 with 1 Axes>"
      ]
     },
     "metadata": {
      "needs_background": "light"
     },
     "output_type": "display_data"
    }
   ],
   "source": [
    "get_K(training_atlanta)"
   ]
  },
  {
   "cell_type": "code",
   "execution_count": 28,
   "metadata": {},
   "outputs": [],
   "source": [
    "K_eso = 3\n",
    "clu_eso = cluster(training_eso, K_eso)"
   ]
  },
  {
   "cell_type": "code",
   "execution_count": 29,
   "metadata": {},
   "outputs": [],
   "source": [
    "K_atlanta = 8\n",
    "clu_atlanta = cluster(training_atlanta, K_atlanta)"
   ]
  },
  {
   "cell_type": "markdown",
   "metadata": {},
   "source": [
    "Now we have a look at the clustered data. First we check how many posts are assigned to each individual cluster.\\\n",
    "For r/elderscrollsonline nearly all observations are assigned to cluster 0. This implies, that nearly all collected posts from r/elderscrollsonline are similar in terms of score, upvote ratio and number of comments. The ten comments that are not located in cluster 0 might be outliers. This certainly leads to bias. This can be seen too in a later section where this data is used for estimating the models.\\\n",
    "For r/Atlanta the clustering looks better. The data is grouped into eight different clusters. However, there are still some clusters (in fact cluster 2, 5 and 7) that only contain a handful of observations. In the case of r/Atlanta this could imply that these posts are outliers (in terms of the metadata). It could, however, also be the case that these results from the fact that the sample size is quite low. Both cases might lead to biased and inconsistent results of the predictions."
   ]
  },
  {
   "cell_type": "code",
   "execution_count": 33,
   "metadata": {},
   "outputs": [
    {
     "name": "stdout",
     "output_type": "stream",
     "text": [
      "+-----+-----+\n",
      "|label|count|\n",
      "+-----+-----+\n",
      "|    1|    1|\n",
      "|    2|    9|\n",
      "|    0|  502|\n",
      "+-----+-----+\n",
      "\n"
     ]
    }
   ],
   "source": [
    "clu_eso.groupBy(\"label\").count().show()"
   ]
  },
  {
   "cell_type": "code",
   "execution_count": 34,
   "metadata": {},
   "outputs": [
    {
     "name": "stdout",
     "output_type": "stream",
     "text": [
      "+-----+-----+\n",
      "|label|count|\n",
      "+-----+-----+\n",
      "|    1|   52|\n",
      "|    6|  154|\n",
      "|    3|  212|\n",
      "|    5|    1|\n",
      "|    4|   22|\n",
      "|    7|    2|\n",
      "|    2|    3|\n",
      "|    0|   49|\n",
      "+-----+-----+\n",
      "\n"
     ]
    }
   ],
   "source": [
    "clu_atlanta.groupBy(\"label\").count().show()"
   ]
  },
  {
   "cell_type": "markdown",
   "metadata": {},
   "source": [
    "The clustering method applied above automatically labels the clusters with integers (ranging from 0 to the total number of clusters). Now, let us look at the cluster means (i.e., the mean values of the number of comments, score and upvote ratio of each cluster). Note that the following code was adapted from https://stackoverflow.com/questions/36251004/pyspark-aggregation-on-multiple-columns .\\\n",
    "For r/elderscrollsonline our presumption that the observations of cluster 1 and 2 are outliers is supported by the following results. The majority of posts has an average number of comments of 12.62, an average score of 5.02 and an upvote ratio of 72.5%. While the three clusters do not differ that much in terms of the upvote ratio there are huge differences regarding the number of comments and the score. The post of cluster 1 has a significnat higher number of comments and score than the average post in cluster 0. As the project aims at predicting popularity (which could also be seen as attention) the clusters of r/elderscollsonline could be sorted from least popular to most popular: cluster 0, cluster 2, cluster 1.\\\n",
    "r/Atlanta has a similar situatio as r/elderscollsonline. The majority of posts is located in clusters that have a relatively low number of comments and score. Five observations, however, have really high values. To remark, this might indicate the presence of outliers or that the sample size is too small."
   ]
  },
  {
   "cell_type": "code",
   "execution_count": 46,
   "metadata": {},
   "outputs": [
    {
     "name": "stdout",
     "output_type": "stream",
     "text": [
      "+-----+------------------+------------------+------------------+\n",
      "|label| avg(num_comments)|        avg(score)| avg(upvote_ratio)|\n",
      "+-----+------------------+------------------+------------------+\n",
      "|    1|             454.0|             478.0|              0.77|\n",
      "|    2|135.88888888888889|245.44444444444446|              0.88|\n",
      "|    0|12.615537848605578|5.0239043824701195|0.7254382470119528|\n",
      "+-----+------------------+------------------+------------------+\n",
      "\n"
     ]
    }
   ],
   "source": [
    "#group the clustered data by label and get the average number of comments, score and upvote ratio.\n",
    "#for r/elderscollsonline:\n",
    "clu_eso.groupBy(\"label\").agg(avg(\"num_comments\"), avg(\"score\"), avg(\"upvote_ratio\")).show()"
   ]
  },
  {
   "cell_type": "code",
   "execution_count": 47,
   "metadata": {},
   "outputs": [
    {
     "name": "stdout",
     "output_type": "stream",
     "text": [
      "+-----+------------------+------------------+------------------+\n",
      "|label| avg(num_comments)|        avg(score)| avg(upvote_ratio)|\n",
      "+-----+------------------+------------------+------------------+\n",
      "|    1|16.115384615384617| 4.596153846153846|0.5384615384615383|\n",
      "|    6|14.551948051948052| 9.909090909090908|0.7481818181818181|\n",
      "|    3| 20.64622641509434| 23.67924528301887|0.8960377358490562|\n",
      "|    5|             182.0|             544.0|              0.94|\n",
      "|    4| 86.68181818181819|124.36363636363636|0.9131818181818182|\n",
      "|    7|             301.5|             325.5|0.9550000000000001|\n",
      "|    2|             306.0|             170.0|0.9533333333333333|\n",
      "|    0|131.20408163265307|  22.3265306122449|0.8981632653061222|\n",
      "+-----+------------------+------------------+------------------+\n",
      "\n"
     ]
    }
   ],
   "source": [
    "#for r/elderscollsonline:\n",
    "clu_atlanta.groupBy(\"label\").agg(avg(\"num_comments\"), avg(\"score\"), avg(\"upvote_ratio\")).show()"
   ]
  },
  {
   "cell_type": "markdown",
   "metadata": {},
   "source": [
    "## Logistic regression"
   ]
  },
  {
   "cell_type": "markdown",
   "metadata": {},
   "source": [
    "The clustered training data is now used to train a logistic regression model. Secondly, the model predicts the cluster of the observations in the test data."
   ]
  },
  {
   "cell_type": "code",
   "execution_count": 48,
   "metadata": {},
   "outputs": [],
   "source": [
    "eso_results_lr = lr_prediction(clu_eso, test_eso, K_eso)"
   ]
  },
  {
   "cell_type": "code",
   "execution_count": 49,
   "metadata": {},
   "outputs": [],
   "source": [
    "atlanta_results_lr = lr_prediction(clu_atlanta, test_atlanta, K_atlanta)"
   ]
  },
  {
   "cell_type": "markdown",
   "metadata": {},
   "source": [
    "For r/elderscrollsonline most posts are predicted to lie in cluster 0. This confirms the argumentation in the section about clustering. Most training data is labeled as cluster 0. Therefore, one would suspect that the majority of the test data is predicted to be in cluster 0. There are not enough observations loacted in cluster 1 and 2 to consistently estimate a model. This result is not very appealing."
   ]
  },
  {
   "cell_type": "code",
   "execution_count": 50,
   "metadata": {},
   "outputs": [
    {
     "name": "stdout",
     "output_type": "stream",
     "text": [
      "+----------------+-----+\n",
      "|final_prediction|count|\n",
      "+----------------+-----+\n",
      "|               0|  241|\n",
      "|               2|    1|\n",
      "+----------------+-----+\n",
      "\n"
     ]
    }
   ],
   "source": [
    "eso_results_lr.groupBy(\"final_prediction\").count().show()"
   ]
  },
  {
   "cell_type": "markdown",
   "metadata": {},
   "source": [
    "For r/Atlanta the predictions are more varied across the different clusters. Without running further model diagnostics, it seems that the logistic regression model (together with the collected data) is more useful for predicting the popularity of posts about Atlanta than for Elder Scrolls Online."
   ]
  },
  {
   "cell_type": "code",
   "execution_count": 52,
   "metadata": {},
   "outputs": [
    {
     "name": "stdout",
     "output_type": "stream",
     "text": [
      "+----------------+-----+\n",
      "|final_prediction|count|\n",
      "+----------------+-----+\n",
      "|               7|    6|\n",
      "|               3|   58|\n",
      "|               0|   25|\n",
      "|               5|   14|\n",
      "|               6|   26|\n",
      "|               1|   36|\n",
      "|               4|   48|\n",
      "|               2|    8|\n",
      "+----------------+-----+\n",
      "\n"
     ]
    }
   ],
   "source": [
    "atlanta_results_lr.groupBy(\"final_prediction\").count().show()"
   ]
  },
  {
   "cell_type": "markdown",
   "metadata": {},
   "source": [
    "## Decision trees"
   ]
  },
  {
   "cell_type": "markdown",
   "metadata": {},
   "source": [
    "This section applies the decision tree method. First, the model is trained and, secondly, the clusters of the posts in the test set are predicted."
   ]
  },
  {
   "cell_type": "code",
   "execution_count": 53,
   "metadata": {},
   "outputs": [],
   "source": [
    "eso_results_dt = getPrediction(clu_eso, test_eso)"
   ]
  },
  {
   "cell_type": "code",
   "execution_count": 54,
   "metadata": {},
   "outputs": [],
   "source": [
    "atlanta_results_dt = getPrediction(clu_atlanta, test_atlanta)"
   ]
  },
  {
   "cell_type": "markdown",
   "metadata": {},
   "source": [
    "For r/elderscrolls the decision tree model returns similar predictions as logistic regression. The majority of posts seems to be located in the most unpopular cluster."
   ]
  },
  {
   "cell_type": "code",
   "execution_count": 55,
   "metadata": {},
   "outputs": [
    {
     "name": "stdout",
     "output_type": "stream",
     "text": [
      "+----------+-----+\n",
      "|prediction|count|\n",
      "+----------+-----+\n",
      "|       0.0|  240|\n",
      "|       2.0|    2|\n",
      "+----------+-----+\n",
      "\n"
     ]
    }
   ],
   "source": [
    "eso_results_dt.groupBy(\"prediction\").count().show()"
   ]
  },
  {
   "cell_type": "markdown",
   "metadata": {},
   "source": [
    "The decision tree model returns interesting estimates for r/Atlanta. First of all, note that observations of the test data are predicted to lie in only five out of eight clusters. The missing clusters are 2,5 and 7. These are exactly the clusters that do not have much observations in the training set. Secondly, estimates obtained for r/Atlanta by Decision trees are different to the ones obtained by logistic regression. This will be discussed in more detail in the next section."
   ]
  },
  {
   "cell_type": "code",
   "execution_count": 56,
   "metadata": {},
   "outputs": [
    {
     "name": "stdout",
     "output_type": "stream",
     "text": [
      "+----------+-----+\n",
      "|prediction|count|\n",
      "+----------+-----+\n",
      "|       0.0|   25|\n",
      "|       1.0|    1|\n",
      "|       4.0|    1|\n",
      "|       3.0|   39|\n",
      "|       6.0|  155|\n",
      "+----------+-----+\n",
      "\n"
     ]
    }
   ],
   "source": [
    "atlanta_results_dt.groupBy(\"prediction\").count().show()"
   ]
  },
  {
   "cell_type": "markdown",
   "metadata": {},
   "source": [
    "## Comparing the model"
   ]
  },
  {
   "cell_type": "markdown",
   "metadata": {},
   "source": [
    "In general, one would run several model diagnostics in order to assess whether a model predicts accurate or not. The problem is that most methods require to know the true label of the test data. This project collects the data without any label and assigns the label to the training set by clustering methods. This means that there is no efficient way to assign the true labels to the test data. Because of that, several methods such as accuracy, true and false positives or ROC cannot be applied. \\\n",
    "First, we will compare the predictions of the two models depending on the subreddit."
   ]
  },
  {
   "cell_type": "code",
   "execution_count": null,
   "metadata": {},
   "outputs": [],
   "source": [
    "#r/elderscrollsonline\n",
    "y = 0\n",
    "for i in range(eso_results_dt.count()):\n",
    "    if (eso_results_dt.select(\"prediction\").collect()[i][0] == int(eso_results_lr.select(\"final_prediction\").collect()[i][0])):\n",
    "        y += 1"
   ]
  },
  {
   "cell_type": "code",
   "execution_count": 79,
   "metadata": {},
   "outputs": [
    {
     "data": {
      "text/plain": [
       "0.987603305785124"
      ]
     },
     "execution_count": 79,
     "metadata": {},
     "output_type": "execute_result"
    }
   ],
   "source": [
    "y/eso_results_dt.count()"
   ]
  },
  {
   "cell_type": "code",
   "execution_count": 75,
   "metadata": {},
   "outputs": [],
   "source": [
    "#r/Atlanta\n",
    "x = 0\n",
    "for i in range(atlanta_results_dt.count()):\n",
    "    if (atlanta_results_dt.select(\"prediction\").collect()[i][0] == int(atlanta_results_lr.select(\"final_prediction\").collect()[i][0])):\n",
    "        x += 1"
   ]
  },
  {
   "cell_type": "code",
   "execution_count": 80,
   "metadata": {},
   "outputs": [
    {
     "data": {
      "text/plain": [
       "0.2398190045248869"
      ]
     },
     "execution_count": 80,
     "metadata": {},
     "output_type": "execute_result"
    }
   ],
   "source": [
    "x/atlanta_results_dt.count()"
   ]
  },
  {
   "cell_type": "markdown",
   "metadata": {},
   "source": [
    "Secondly, we will compare the accuracy of the two models based on the distance between the true values (the standardized values of number of comments, score and upvote ratio) and the mean values of the predicted clusters. Mathematically, this computes the distance for each observation (which can be seen in our case as a point in a three dimensional space) and its corresponding center mean. Secondly it sums up the distances. The distance itself does not give that much information. It can, however, be used to compare two or more models. The lower the sum of the distances the better are the predictions."
   ]
  },
  {
   "cell_type": "code",
   "execution_count": 103,
   "metadata": {},
   "outputs": [
    {
     "name": "stdout",
     "output_type": "stream",
     "text": [
      "+-----------------+\n",
      "|    sum(distance)|\n",
      "+-----------------+\n",
      "|273.4167650769202|\n",
      "+-----------------+\n",
      "\n"
     ]
    }
   ],
   "source": [
    "#compute the distance measurement for r/elderscrollsonline obtained by logistic regression\n",
    "is_eso_lr = make_distance_column(clu_eso, eso_results_lr, K_eso, \"final_prediction\")\n",
    "dis_eso_lr.agg({'distance': 'sum'}).show()"
   ]
  },
  {
   "cell_type": "code",
   "execution_count": 104,
   "metadata": {},
   "outputs": [
    {
     "name": "stdout",
     "output_type": "stream",
     "text": [
      "+------------------+\n",
      "|     sum(distance)|\n",
      "+------------------+\n",
      "|290.43315429333927|\n",
      "+------------------+\n",
      "\n"
     ]
    }
   ],
   "source": [
    "#compute the distance measurement for r/elderscrollsonline obtained by decision trees\n",
    "dis_eso_dt = make_distance_column(clu_eso, eso_results_dt.withColumn(\"prediction\", eso_results_dt.prediction.cast(\"int\")), K_eso, \"prediction\")\n",
    "dis_eso_dt.agg({'distance': 'sum'}).show()"
   ]
  },
  {
   "cell_type": "markdown",
   "metadata": {},
   "source": [
    "For r/elderscrollsonline the distance measurement is not that much different. This is supported by the fact that over 90% of all predictions are the same for both models. Both models estimate equally well."
   ]
  },
  {
   "cell_type": "code",
   "execution_count": 92,
   "metadata": {},
   "outputs": [
    {
     "name": "stdout",
     "output_type": "stream",
     "text": [
      "+-----------------+\n",
      "|    sum(distance)|\n",
      "+-----------------+\n",
      "|671.0777058893595|\n",
      "+-----------------+\n",
      "\n"
     ]
    }
   ],
   "source": [
    "#compute the distance measurement for r/atlanta obtained by logistic regression\n",
    "dis_atlanta_lr = make_distance_column(clu_atlanta, atlanta_results_lr, K_atlanta, \"final_prediction\")\n",
    "dis_atlanta_lr.agg({'distance': 'sum'}).show()"
   ]
  },
  {
   "cell_type": "code",
   "execution_count": 102,
   "metadata": {},
   "outputs": [
    {
     "name": "stdout",
     "output_type": "stream",
     "text": [
      "+------------------+\n",
      "|     sum(distance)|\n",
      "+------------------+\n",
      "|270.02247582905017|\n",
      "+------------------+\n",
      "\n"
     ]
    }
   ],
   "source": [
    "#compute the distance measurement for r/atlanta obtained by decision trees\n",
    "dis_atlanta_dt = make_distance_column(clu_atlanta, atlanta_results_dt.withColumn(\"prediction\", atlanta_results_dt.prediction.cast(\"int\")), K_atlanta, \"prediction\")\n",
    "dis_atlanta_dt.agg({'distance': 'sum'}).show()"
   ]
  },
  {
   "cell_type": "markdown",
   "metadata": {},
   "source": [
    "Based on the distance measurement computed for the test data from r/Atlanta the model obtained by decision trees is significantly more accurate and should give better results."
   ]
  }
 ],
 "metadata": {
  "kernelspec": {
   "display_name": "Python 3",
   "language": "python",
   "name": "python3"
  },
  "language_info": {
   "codemirror_mode": {
    "name": "ipython",
    "version": 3
   },
   "file_extension": ".py",
   "mimetype": "text/x-python",
   "name": "python",
   "nbconvert_exporter": "python",
   "pygments_lexer": "ipython3",
   "version": "3.8.6"
  }
 },
 "nbformat": 4,
 "nbformat_minor": 4
}
